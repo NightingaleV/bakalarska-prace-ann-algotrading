{
 "cells": [
  {
   "cell_type": "markdown",
   "metadata": {},
   "source": [
    "# Průvodce implementací trénování modelu"
   ]
  },
  {
   "cell_type": "markdown",
   "metadata": {},
   "source": [
    "## Importy"
   ]
  },
  {
   "cell_type": "code",
   "execution_count": 1,
   "metadata": {},
   "outputs": [
    {
     "name": "stderr",
     "output_type": "stream",
     "text": [
      "C:\\python\\lib\\site-packages\\h5py\\__init__.py:36: FutureWarning: Conversion of the second argument of issubdtype from `float` to `np.floating` is deprecated. In future, it will be treated as `np.float64 == np.dtype(float).type`.\n",
      "  from ._conv import register_converters as _register_converters\n",
      "Using TensorFlow backend.\n"
     ]
    }
   ],
   "source": [
    "# Ignoruje warningy dependencies\n",
    "import warnings\n",
    "warnings.filterwarnings('ignore')\n",
    "\n",
    "# Python packages\n",
    "import os\n",
    "import sys\n",
    "\n",
    "# DataScience packages\n",
    "import numpy as np\n",
    "import pandas as pd\n",
    "from sklearn.preprocessing import StandardScaler\n",
    "\n",
    "# Prida cestu pro custom moduly\n",
    "nb_dir = os.path.split(os.getcwd())[0]\n",
    "if nb_dir not in sys.path:\n",
    "    sys.path.append(nb_dir)\n",
    "\n",
    "# Vlastní package\n",
    "from dataset_manager.dataset_manager import DatasetManager\n",
    "from neural_network_lab.model_preset.logger import Logger\n",
    "\n",
    "# Importuje nastaveni modelu s implementaci\n",
    "from neural_network_lab.ann_classification import ModelNeuralNetwork"
   ]
  },
  {
   "cell_type": "markdown",
   "metadata": {},
   "source": [
    "## Parametry datasetu"
   ]
  },
  {
   "cell_type": "code",
   "execution_count": 3,
   "metadata": {},
   "outputs": [],
   "source": [
    "# Data Parameters\n",
    "currency_pair = 'USD/JPY'\n",
    "data_postfix = '12-16'\n",
    "time_frame = '1H'"
   ]
  },
  {
   "cell_type": "markdown",
   "metadata": {},
   "source": [
    "## Zpracování dat\n",
    "1. Importuje data \n",
    "2. Vyčistí data od prázdných hodnot\n",
    "3. Agreguje data na požadovanou hodnotu periody (default = 1H) \n",
    "4. Resetuje index\n",
    "5. Uloží kopii do mezipaměti (slouží primárně k iterování)"
   ]
  },
  {
   "cell_type": "code",
   "execution_count": 4,
   "metadata": {},
   "outputs": [
    {
     "name": "stdout",
     "output_type": "stream",
     "text": [
      "Import dataset: usdjpy_12-16.csv\n",
      "Clean data\n",
      "Aggregate data on 1H candles\n"
     ]
    },
    {
     "data": {
      "text/html": [
       "<div>\n",
       "<style scoped>\n",
       "    .dataframe tbody tr th:only-of-type {\n",
       "        vertical-align: middle;\n",
       "    }\n",
       "\n",
       "    .dataframe tbody tr th {\n",
       "        vertical-align: top;\n",
       "    }\n",
       "\n",
       "    .dataframe thead th {\n",
       "        text-align: right;\n",
       "    }\n",
       "</style>\n",
       "<table border=\"1\" class=\"dataframe\">\n",
       "  <thead>\n",
       "    <tr style=\"text-align: right;\">\n",
       "      <th></th>\n",
       "      <th>open</th>\n",
       "      <th>high</th>\n",
       "      <th>low</th>\n",
       "      <th>close</th>\n",
       "    </tr>\n",
       "  </thead>\n",
       "  <tbody>\n",
       "    <tr>\n",
       "      <th>0</th>\n",
       "      <td>76.948</td>\n",
       "      <td>76.991</td>\n",
       "      <td>76.923</td>\n",
       "      <td>76.984</td>\n",
       "    </tr>\n",
       "    <tr>\n",
       "      <th>1</th>\n",
       "      <td>76.985</td>\n",
       "      <td>77.002</td>\n",
       "      <td>76.926</td>\n",
       "      <td>76.948</td>\n",
       "    </tr>\n",
       "    <tr>\n",
       "      <th>2</th>\n",
       "      <td>76.947</td>\n",
       "      <td>76.947</td>\n",
       "      <td>76.894</td>\n",
       "      <td>76.921</td>\n",
       "    </tr>\n",
       "    <tr>\n",
       "      <th>3</th>\n",
       "      <td>76.920</td>\n",
       "      <td>76.924</td>\n",
       "      <td>76.896</td>\n",
       "      <td>76.906</td>\n",
       "    </tr>\n",
       "    <tr>\n",
       "      <th>4</th>\n",
       "      <td>76.903</td>\n",
       "      <td>76.914</td>\n",
       "      <td>76.898</td>\n",
       "      <td>76.907</td>\n",
       "    </tr>\n",
       "  </tbody>\n",
       "</table>\n",
       "</div>"
      ],
      "text/plain": [
       "     open    high     low   close\n",
       "0  76.948  76.991  76.923  76.984\n",
       "1  76.985  77.002  76.926  76.948\n",
       "2  76.947  76.947  76.894  76.921\n",
       "3  76.920  76.924  76.896  76.906\n",
       "4  76.903  76.914  76.898  76.907"
      ]
     },
     "execution_count": 4,
     "metadata": {},
     "output_type": "execute_result"
    }
   ],
   "source": [
    "# INITIALIZE DATASET\n",
    "# ------------------------------------------------------------------------------\n",
    "dm = DatasetManager(currency_pair, data_postfix).resample(time_frame)\n",
    "dm.df.reset_index(drop=True, inplace=True)\n",
    "dm.save_df_copy_into_memory()\n",
    "dm.df.head()"
   ]
  },
  {
   "cell_type": "markdown",
   "metadata": {},
   "source": [
    "## Inicializace modelu neuronové sítě\n",
    "Vytvoří instanci model, která implementuje celkovou funkcionalitu modelu a pomocných metod\n",
    "### Přepsání defaultních parametrů\n",
    "I když je klasickým postupem definování parametrů uvnitř souboru modelu. Z důvodů hromadného učení desítek modelů s podobnými parametry během jedné iterace lze parametry přepsat i za běhu. Pokud chceme importovat existující model, je potřeba přepsat parametry odpovídající modelu.\n",
    "#### model.predict_ma\n",
    "- délka klouzavého průměru, který chceme predikovat\n",
    "#### model.n_past\n",
    "- parametr klouzavého okna\n",
    "- model uvidí n_past period do minulosti\n",
    "#### model.n_past\n",
    "- parametr klouzavého okna\n",
    "- model bude predikovat n_future period do budoucnosti\n",
    "\n",
    "#### Parametry názvů modelu\n",
    "- model.model_task\n",
    "- model.model_postfix"
   ]
  },
  {
   "cell_type": "code",
   "execution_count": 8,
   "metadata": {},
   "outputs": [
    {
     "name": "stdout",
     "output_type": "stream",
     "text": [
      "Initialize Model Builder\n",
      "Initialize Model Evaluation\n",
      "Initialize Model Strategies\n",
      "Initialize Neural Network Setup\n",
      "Model called classification_usdjpy_12-16_MA40_past50_fut10_test_spyder was initiated\n"
     ]
    }
   ],
   "source": [
    "# IMPORT NEURAL NETWORK\n",
    "# ------------------------------------------------------------------------------\n",
    "model = ModelNeuralNetwork(data_manager=dm)\n",
    "\n",
    "# parameters\n",
    "model.predict_ma: int = 40\n",
    "model.n_past: int = 50\n",
    "model.n_future: int = 10\n",
    "model.model_task: str = 'classification'\n",
    "model.model_postfix: str = 'test_spyder'\n",
    "\n",
    "print(f'Model called {model.model_name} was initiated')"
   ]
  },
  {
   "cell_type": "markdown",
   "metadata": {},
   "source": [
    "## Logger\n",
    "Uchovává základní informace o parametrech modelu a výsledky jeho evaluace. Soubor je vytvořen ve složce modelu."
   ]
  },
  {
   "cell_type": "code",
   "execution_count": 11,
   "metadata": {},
   "outputs": [],
   "source": [
    "# LOGGER\n",
    "# ------------------------------------------------------------------------------\n",
    "logger = Logger()\n",
    "logger.set_model(model)\n",
    "logger.set_data_manager(dm)"
   ]
  },
  {
   "cell_type": "markdown",
   "metadata": {},
   "source": [
    "## Základní vstupy\n",
    "- Sada klouzavých průměrů\n",
    "- RSI indikátor\n",
    "- Stochastic oscilátor\n",
    "- uložení indikátorů pro další operace"
   ]
  },
  {
   "cell_type": "code",
   "execution_count": 5,
   "metadata": {},
   "outputs": [],
   "source": [
    "# Get clean df from memory\n",
    "dm.restore_df()\n",
    "\n",
    "# INDICATORS\n",
    "# ------------------------------------------------------------------------------\n",
    "dm.ewma(model.predict_ma)\n",
    "if model.predict_ma != 15:\n",
    "    dm.ewma(15)\n",
    "if model.predict_ma != 20:\n",
    "    dm.ewma(20)\n",
    "if model.predict_ma != 30:\n",
    "    dm.ewma(30)\n",
    "if model.predict_ma != 40:\n",
    "    dm.ewma(40)\n",
    "if model.predict_ma != 60:\n",
    "    dm.ewma(60)\n",
    "dm.rsi_indicator(25)\n",
    "dm.stochastic_oscilator(25, 3, 3)\n",
    "dm.set_indicators(target=model.model_task)\n",
    "\n",
    "# First 5 rows\n",
    "dm.df.head()"
   ]
  },
  {
   "cell_type": "markdown",
   "metadata": {},
   "source": [
    "## Odvozené vstupy z EMA\n",
    "- zlogaritmovaná lineární regrese za minulé období o délce n_future\n",
    "- sada rozdílů EMA za 1 období\n",
    "- sada zlogaritmovaných regresí za 1 období"
   ]
  },
  {
   "cell_type": "code",
   "execution_count": 7,
   "metadata": {},
   "outputs": [
    {
     "ename": "TypeError",
     "evalue": "'set' object does not support indexing",
     "output_type": "error",
     "traceback": [
      "\u001b[1;31m---------------------------------------------------------------------------\u001b[0m",
      "\u001b[1;31mTypeError\u001b[0m                                 Traceback (most recent call last)",
      "\u001b[1;32m<ipython-input-7-6a1284577a36>\u001b[0m in \u001b[0;36m<module>\u001b[1;34m()\u001b[0m\n\u001b[1;32m----> 1\u001b[1;33m \u001b[0ma\u001b[0m\u001b[1;33m[\u001b[0m\u001b[1;36m0\u001b[0m\u001b[1;33m]\u001b[0m\u001b[1;33m\u001b[0m\u001b[0m\n\u001b[0m",
      "\u001b[1;31mTypeError\u001b[0m: 'set' object does not support indexing"
     ]
    }
   ],
   "source": [
    "# Derived Quantities\n",
    "dm.df['past_price_regression'] = dm.df[dm.mean_indicators[0]] / dm.df[dm.mean_indicators[0]].shift(\n",
    "    model.n_future)\n",
    "dm.df['past_log_regression'] = np.log(dm.df['past_price_regression'])\n",
    "for mean_average in dm.mean_indicators:\n",
    "    dm.df['mean_diff_{}'.format(mean_average[-2:])] = dm.df[mean_average] - dm.df[\n",
    "        mean_average].shift(1)\n",
    "    dm.df['mean_ret_{}'.format(mean_average[-2:])] = np.log(\n",
    "        dm.df[mean_average] / dm.df[mean_average].shift(1))"
   ]
  },
  {
   "cell_type": "markdown",
   "metadata": {},
   "source": [
    "## Výpočet klasifikačních tříd\n",
    "- třída 1: klouzavý průměr za budoucích n_future rostl\n",
    "- třída 0: klouzavý průměr za budoucích n_future klesal"
   ]
  },
  {
   "cell_type": "code",
   "execution_count": 14,
   "metadata": {},
   "outputs": [
    {
     "ename": "IndexError",
     "evalue": "list index out of range",
     "output_type": "error",
     "traceback": [
      "\u001b[1;31m---------------------------------------------------------------------------\u001b[0m",
      "\u001b[1;31mIndexError\u001b[0m                                Traceback (most recent call last)",
      "\u001b[1;32m<ipython-input-14-9511a68d1e84>\u001b[0m in \u001b[0;36m<module>\u001b[1;34m()\u001b[0m\n\u001b[1;32m----> 1\u001b[1;33m dm.df['future_price_regression'] = dm.df[dm.mean_indicators[0]].shift(-model.n_future) / dm.df[\n\u001b[0m\u001b[0;32m      2\u001b[0m     dm.mean_indicators[0]]\n\u001b[0;32m      3\u001b[0m \u001b[0mdm\u001b[0m\u001b[1;33m.\u001b[0m\u001b[0mdf\u001b[0m\u001b[1;33m[\u001b[0m\u001b[0mmodel\u001b[0m\u001b[1;33m.\u001b[0m\u001b[0mmodel_task\u001b[0m\u001b[1;33m]\u001b[0m \u001b[1;33m=\u001b[0m \u001b[0mnp\u001b[0m\u001b[1;33m.\u001b[0m\u001b[0mwhere\u001b[0m\u001b[1;33m(\u001b[0m\u001b[0mdm\u001b[0m\u001b[1;33m.\u001b[0m\u001b[0mdf\u001b[0m\u001b[1;33m[\u001b[0m\u001b[1;34m'future_price_regression'\u001b[0m\u001b[1;33m]\u001b[0m \u001b[1;33m>\u001b[0m \u001b[1;36m1\u001b[0m\u001b[1;33m,\u001b[0m \u001b[1;36m1\u001b[0m\u001b[1;33m,\u001b[0m \u001b[1;36m0\u001b[0m\u001b[1;33m)\u001b[0m\u001b[1;33m\u001b[0m\u001b[0m\n",
      "\u001b[1;31mIndexError\u001b[0m: list index out of range"
     ]
    }
   ],
   "source": [
    "# CLASSIFICATION VALUES\n",
    "dm.df['future_price_regression'] = dm.df[dm.mean_indicators[0]].shift(-model.n_future) / dm.df[\n",
    "    dm.mean_indicators[0]]\n",
    "dm.df[model.model_task] = np.where(dm.df['future_price_regression'] > 1, 1, 0)"
   ]
  },
  {
   "cell_type": "markdown",
   "metadata": {},
   "source": [
    "## Odstranění nepotřebných dat\n",
    "- odstraní se nepotřebné sloupce\n",
    "- odstraní se těsné okraje datasetu, na kterých se nachází prázdné hodnoty ve sloupcích indikátorů (indikátor neměl dostatek dat, proto nemohl spočítat hodnotu)\n",
    "- resetování indexu a uložení zbývajících idikátorů\n"
   ]
  },
  {
   "cell_type": "code",
   "execution_count": null,
   "metadata": {},
   "outputs": [],
   "source": [
    "# Drop unnecessary values\n",
    "dm.df.drop(['low', 'high', 'open'], axis=1, inplace=True)\n",
    "dm.df.drop(['%d', 'past_price_regression', 'future_price_regression'], axis=1, inplace=True)\n",
    "# for training without mean averages\n",
    "# dm.df.drop(model.mean_indicators, axis=1, inplace=True)\n",
    "dm.df = dm.df.iloc[30:-5]\n",
    "dm.df.reset_index(drop=True, inplace=True)\n",
    "dm.set_indicators(target=model.model_task)\n",
    "df = dm.df\n",
    "df.head()"
   ]
  },
  {
   "cell_type": "markdown",
   "metadata": {},
   "source": [
    "## Rozdělení datasetu na Test / Train\n",
    "- rozdělí dle parametru v třídě modelu, defaultně je velikost **test datasetu 20 %** z celkových dat (model.test_size = 0.2)\n",
    "- validační dataset se vytvoří automaticky při začátku trénování, defaultně je **velikost 15 % z trénovacího setu** (model.val_size = 0.15)"
   ]
  },
  {
   "cell_type": "code",
   "execution_count": null,
   "metadata": {},
   "outputs": [],
   "source": [
    "# Test/Train split\n",
    "df_train, df_test, df_test_close = dm.test_train_split(model)"
   ]
  },
  {
   "cell_type": "markdown",
   "metadata": {},
   "source": [
    "## Normalizace dat\n",
    "Vstupy se normalizují pomocí **Z-Score** metody."
   ]
  },
  {
   "cell_type": "code",
   "execution_count": null,
   "metadata": {},
   "outputs": [],
   "source": [
    "# NORMALIZATION\n",
    "# ------------------------------------------------------------------------------\n",
    "scaler = StandardScaler()\n",
    "scaled_df_train = scaler.fit_transform(df_train[dm.mean_indicators + dm.indicators])\n",
    "scaled_df_test = scaler.transform(df_test[dm.mean_indicators + dm.indicators])"
   ]
  },
  {
   "cell_type": "markdown",
   "metadata": {},
   "source": [
    "## Vytvoření vstupních vektorů - plovoucí okna\n",
    "Pomocí implementované metody se proiterují datasety a vytvoří se vstupní trénovací a testovací vektory."
   ]
  },
  {
   "cell_type": "code",
   "execution_count": null,
   "metadata": {},
   "outputs": [],
   "source": [
    "x_train, y_train = model.create_train_vectors(df_train, scaled_df_train)\n",
    "x_test, y_test, y_test_price = model.create_test_vectors(df_test, scaled_df_test, df_test_close)"
   ]
  },
  {
   "cell_type": "markdown",
   "metadata": {},
   "source": [
    "## Trénování neuronové sítě\n",
    "1. Model **dosadí hyperparametry **\n",
    "2. Model se **skompiluje**\n",
    "3. Model definuje chování během trénování = **Callbacks**\n",
    "    - dynamické trénování\n",
    "    - dynamický learning rate\n",
    "    - model checkpoint\n",
    "4. Model **spustí proces učení**\n",
    "5. **Váhy se ukládají** během učení, pokud model dosáhne nového lepšího výsledku\n",
    "6. Model **ukončí své trénování**, pokud se nadále nezlepšuje\n",
    "7. Model uloží své **trénovací, validační skóre**\n",
    "\n",
    "#### Poznámka:\n",
    "parametr verbose - zobrazí proces trénování"
   ]
  },
  {
   "cell_type": "code",
   "execution_count": null,
   "metadata": {},
   "outputs": [],
   "source": [
    "# TRAIN NETWORK\n",
    "# ------------------------------------------------------------------------------\n",
    "trained_model, training_history = model.train_network(x_train, y_train, verbose=0)\n",
    "# Plot Training Progress of Error\n",
    "model.plot_training_loss()"
   ]
  },
  {
   "cell_type": "markdown",
   "metadata": {},
   "source": [
    "#### Chyba během trénování"
   ]
  },
  {
   "cell_type": "code",
   "execution_count": null,
   "metadata": {},
   "outputs": [],
   "source": [
    "# Plot Training Progress of Error\n",
    "model.plot_training_loss()"
   ]
  },
  {
   "cell_type": "markdown",
   "metadata": {},
   "source": [
    "#### Přesnost během trénování"
   ]
  },
  {
   "cell_type": "code",
   "execution_count": null,
   "metadata": {},
   "outputs": [],
   "source": [
    "# Plot Training Progress of Accuracy\n",
    "model.plot_training_metric()"
   ]
  },
  {
   "cell_type": "markdown",
   "metadata": {},
   "source": [
    "# Klasifikace hodnot\n",
    "- **načte váhy** modelu uložené během trénování\n",
    "- **klasifikuje třídy** na testovacím / trénovacím setu"
   ]
  },
  {
   "cell_type": "code",
   "execution_count": null,
   "metadata": {},
   "outputs": [],
   "source": [
    "# MAKE PREDICTION\n",
    "# ------------------------------------------------------------------------------\n",
    "# Load Best Model\n",
    "classifier = model.load_network()\n",
    "# Make Predictions\n",
    "predictions_train = classifier.predict(x_train)\n",
    "predictions_test = classifier.predict(x_test)\n",
    "# Set values for evaluation\n",
    "actual_train = y_train\n",
    "actual_test = y_test"
   ]
  },
  {
   "cell_type": "markdown",
   "metadata": {},
   "source": [
    "## Vytvoření setů pro evaluaci\n",
    "- **Sloupce**: Aktuální hodnoty + Predikované hodnoty + Uzavírací cena"
   ]
  },
  {
   "cell_type": "code",
   "execution_count": null,
   "metadata": {},
   "outputs": [],
   "source": [
    "# CREATE SETS FOR EVALUATION\n",
    "# Columns: Actual, Prediction, Close Price\n",
    "# ------------------------------------------------------------------------------\n",
    "# TRAIN Evaluation Set\n",
    "df_train_eval = model.create_train_eval_set(actual_train, predictions_train)\n",
    "# VALIDATION Evaluation Set\n",
    "df_val_eval = model.create_val_eval_set(actual_train, predictions_train)\n",
    "# TEST Evaluation Set\n",
    "df_test_eval = model.create_test_eval_set(actual_test, predictions_test, y_test_price)"
   ]
  },
  {
   "cell_type": "markdown",
   "metadata": {},
   "source": [
    "## Přesnost na testovacím setu"
   ]
  },
  {
   "cell_type": "code",
   "execution_count": null,
   "metadata": {},
   "outputs": [],
   "source": [
    "# ACCURACY EVALUATION\n",
    "# ------------------------------------------------------------------------------\n",
    "model.test_score = model.calc_acc(df_train_eval.copy(), origin=0.5, actual_col='actual', prediction_col='prediction')"
   ]
  },
  {
   "cell_type": "code",
   "execution_count": null,
   "metadata": {},
   "outputs": [],
   "source": []
  },
  {
   "cell_type": "code",
   "execution_count": null,
   "metadata": {},
   "outputs": [],
   "source": []
  }
 ],
 "metadata": {
  "kernelspec": {
   "display_name": "Python 3",
   "language": "python",
   "name": "python3"
  },
  "language_info": {
   "codemirror_mode": {
    "name": "ipython",
    "version": 3
   },
   "file_extension": ".py",
   "mimetype": "text/x-python",
   "name": "python",
   "nbconvert_exporter": "python",
   "pygments_lexer": "ipython3",
   "version": "3.6.5"
  }
 },
 "nbformat": 4,
 "nbformat_minor": 2
}
